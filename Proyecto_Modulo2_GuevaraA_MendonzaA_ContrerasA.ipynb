{
 "cells": [
  {
   "cell_type": "markdown",
   "metadata": {
    "collapsed": true
   },
   "source": [
    "# Modelo matemático del crecimiento y tratamiento de un tumor"
   ]
  },
  {
   "cell_type": "markdown",
   "metadata": {},
   "source": [
    "$$\\frac{dc}{dt} = -\\lambda\\ c\\log \\frac{c}{K} \\; $$\n",
    "\n",
    "$$\\frac {dK}{dt} =\\phi c  -\\varphi k c^\\frac {2}{3} $$\n",
    "\n",
    " _c_ representa al tamaño del tumor a través del tiempo \n",
    " \n",
    " _k_ representa al capacidad de carga del tumor\n",
    " \n",
    " Parámetros:\n",
    " \n",
    "$\\phi = 5.85 $ \n",
    "\n",
    "$\\lambda = 0.192 $ \n",
    "\n",
    "$ \\varphi = 0.00873 $  "
   ]
  },
  {
   "cell_type": "markdown",
   "metadata": {
    "collapsed": true
   },
   "source": [
    "## Simulación"
   ]
  },
  {
   "cell_type": "code",
   "execution_count": null,
   "metadata": {
    "collapsed": true
   },
   "outputs": [],
   "source": [
    "import numpy as np\n",
    "import matplotlib.pyplot as plt\n",
    "%matplotlib inline\n",
    "\n",
    "from scipy.integrate import odeint\n",
    "\n",
    "\n"
   ]
  },
  {
   "cell_type": "code",
   "execution_count": null,
   "metadata": {
    "collapsed": true
   },
   "outputs": [],
   "source": [
    "def crecimiento_tratamiento(x,t,phi,rho,lamda,XIval):\n",
    "    x1 = x[0]\n",
    "    x2 = x[1]\n",
    "    if t<40:\n",
    "        XI = 0\n",
    "    else:\n",
    "        XI = XIval\n",
    "    return [-lamda*x1*np.log10(x1/x2)-XI*x1,\n",
    "             phi*x1-rho*x2*(x1**(2/3))]"
   ]
  },
  {
   "cell_type": "code",
   "execution_count": null,
   "metadata": {
    "collapsed": true
   },
   "outputs": [],
   "source": [
    "## condiciones iniciales\n",
    "phi = 5.85#parametro\n",
    "rho = 0.00873#parametro\n",
    "lamda=0.192#parametro\n",
    "XI = 0.1 # condicion iniail ? Valor arbitrario\n",
    "x0 = [200, 500]\n",
    "t = np.linspace(0,61,10000)"
   ]
  },
  {
   "cell_type": "code",
   "execution_count": null,
   "metadata": {
    "collapsed": true
   },
   "outputs": [],
   "source": [
    "x = odeint(crecimiento_tratamiento, x0, t, args=(phi,rho,lamda,XI))"
   ]
  },
  {
   "cell_type": "code",
   "execution_count": null,
   "metadata": {},
   "outputs": [],
   "source": [
    "x"
   ]
  },
  {
   "cell_type": "code",
   "execution_count": null,
   "metadata": {},
   "outputs": [],
   "source": [
    "plt.plot(t, x[:,0], t, x[:,1])"
   ]
  },
  {
   "cell_type": "code",
   "execution_count": null,
   "metadata": {
    "collapsed": true
   },
   "outputs": [],
   "source": [
    "from ipywidgets import *"
   ]
  },
  {
   "cell_type": "code",
   "execution_count": null,
   "metadata": {
    "collapsed": true
   },
   "outputs": [],
   "source": []
  },
  {
   "cell_type": "code",
   "execution_count": null,
   "metadata": {
    "collapsed": true
   },
   "outputs": [],
   "source": []
  }
 ],
 "metadata": {
  "kernelspec": {
   "display_name": "Python 3",
   "language": "python",
   "name": "python3"
  },
  "language_info": {
   "codemirror_mode": {
    "name": "ipython",
    "version": 3
   },
   "file_extension": ".py",
   "mimetype": "text/x-python",
   "name": "python",
   "nbconvert_exporter": "python",
   "pygments_lexer": "ipython3",
   "version": "3.6.3"
  }
 },
 "nbformat": 4,
 "nbformat_minor": 2
}
